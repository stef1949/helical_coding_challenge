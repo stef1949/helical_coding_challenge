{
 "cells": [
  {
   "cell_type": "code",
   "execution_count": 1,
   "id": "3e6fd8e2",
   "metadata": {},
   "outputs": [
    {
     "name": "stdout",
     "output_type": "stream",
     "text": [
      "PyTorch version: 2.9.0+cu130\n",
      "CUDA available: True\n",
      "GPU: NVIDIA GeForce RTX 3060 Ti\n"
     ]
    }
   ],
   "source": [
    "import torch\n",
    "print(\"PyTorch version:\", torch.__version__)\n",
    "print(\"CUDA available:\", torch.cuda.is_available())\n",
    "if torch.cuda.is_available():\n",
    "    print(\"GPU:\", torch.cuda.get_device_name(0))\n"
   ]
  },
  {
   "cell_type": "code",
   "execution_count": 2,
   "id": "a7c1bdc7",
   "metadata": {},
   "outputs": [
    {
     "name": "stdout",
     "output_type": "stream",
     "text": [
      "PyTorch version: 2.9.0+cu130\n",
      "CUDA available: True\n",
      "GPU detected: NVIDIA GeForce RTX 3060 Ti\n",
      "Attempting to use device: cuda\n",
      "Successfully moved model to GPU.\n",
      "Dummy input tensor is on device: cuda:0\n",
      "Output tensor is on device: cuda:0\n",
      "\n",
      "Success! Helical appears to be using the GPU for computation.\n"
     ]
    }
   ],
   "source": [
    "import torch\n",
    "# Make sure to import your helical library\n",
    "# import helical\n",
    "\n",
    "# 1. Check for PyTorch and CUDA availability\n",
    "print(f\"PyTorch version: {torch.__version__}\")\n",
    "cuda_available = torch.cuda.is_available()\n",
    "print(f\"CUDA available: {cuda_available}\")\n",
    "\n",
    "if not cuda_available:\n",
    "    print(\"Helical cannot use GPU because PyTorch cannot find a CUDA-enabled GPU.\")\n",
    "else:\n",
    "    device = torch.device(\"cuda\")\n",
    "    print(f\"GPU detected: {torch.cuda.get_device_name(0)}\")\n",
    "    print(f\"Attempting to use device: {device}\")\n",
    "\n",
    "    try:\n",
    "        # 2. Instantiate your helical model\n",
    "        #    Replace `helical.YourModelClass()` with your actual model class.\n",
    "        #    This is a placeholder.\n",
    "        # model = helical.YourModelClass().to(device)\n",
    "        model = torch.nn.Linear(10, 2).to(device) # Using a simple PyTorch model as an example\n",
    "        model.eval()\n",
    "        print(\"Successfully moved model to GPU.\")\n",
    "\n",
    "        # 3. Create a dummy input tensor and move it to the GPU\n",
    "        #    Replace the shape `(1, 10)` with a valid input shape for your model.\n",
    "        dummy_input = torch.randn(1, 10).to(device)\n",
    "        print(f\"Dummy input tensor is on device: {dummy_input.device}\")\n",
    "\n",
    "        # 4. Perform a forward pass to check for runtime errors\n",
    "        with torch.no_grad():\n",
    "            output = model(dummy_input)\n",
    "        print(f\"Output tensor is on device: {output.device}\")\n",
    "\n",
    "        if \"cuda\" in str(output.device):\n",
    "            print(\"\\nSuccess! Helical appears to be using the GPU for computation.\")\n",
    "        else:\n",
    "            print(\"\\nWarning: Computation finished, but the output is not on the GPU.\")\n",
    "\n",
    "    except Exception as e:\n",
    "        print(f\"\\nAn error occurred while trying to use the GPU with helical: {e}\")\n",
    "        print(\"Please ensure 'helical' is installed and the model name is correct.\")\n"
   ]
  }
 ],
 "metadata": {
  "kernelspec": {
   "display_name": ".venv",
   "language": "python",
   "name": "python3"
  },
  "language_info": {
   "codemirror_mode": {
    "name": "ipython",
    "version": 3
   },
   "file_extension": ".py",
   "mimetype": "text/x-python",
   "name": "python",
   "nbconvert_exporter": "python",
   "pygments_lexer": "ipython3",
   "version": "3.11.9"
  }
 },
 "nbformat": 4,
 "nbformat_minor": 5
}
